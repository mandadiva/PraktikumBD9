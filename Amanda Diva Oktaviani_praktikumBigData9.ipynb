{
  "cells": [
    {
      "cell_type": "markdown",
      "id": "115f65d3",
      "metadata": {
        "id": "115f65d3"
      },
      "source": [
        "# Hands-On Pertemuan 9: Spark SQL"
      ]
    },
    {
      "cell_type": "markdown",
      "id": "7f0fa7f9",
      "metadata": {
        "id": "7f0fa7f9"
      },
      "source": [
        "## Tujuan:\n",
        "- Mengasah keterampilan analisis data menggunakan Spark SQL.\n",
        "- Melakukan lebih banyak latihan SQL yang mengarah ke skenario dunia nyata.\n",
        "- Mempersiapkan mahasiswa untuk menggunakan Spark SQL dalam proyek besar.\n"
      ]
    },
    {
      "cell_type": "markdown",
      "id": "3a45dcb9",
      "metadata": {
        "id": "3a45dcb9"
      },
      "source": [
        "### 1. Refresher: Basic SQL Operations in Spark SQL\n",
        "- **Tugas 1**: Ulangi pemahaman Anda tentang SQL dasar dengan menjalankan queries sederhana pada dataset di Spark SQL.\n"
      ]
    },
    {
      "cell_type": "code",
      "execution_count": 4,
      "id": "YGsZCK6DC7e8",
      "metadata": {
        "colab": {
          "base_uri": "https://localhost:8080/"
        },
        "id": "YGsZCK6DC7e8",
        "outputId": "92fb259e-5fa4-4a2c-f725-5b6d3eaa676b"
      },
      "outputs": [
        {
          "output_type": "stream",
          "name": "stdout",
          "text": [
            "Requirement already satisfied: pyspark==3.4.1 in /usr/local/lib/python3.10/dist-packages (3.4.1)\n",
            "Requirement already satisfied: py4j==0.10.9.7 in /usr/local/lib/python3.10/dist-packages (from pyspark==3.4.1) (0.10.9.7)\n"
          ]
        }
      ],
      "source": [
        "pip install pyspark==3.4.1"
      ]
    },
    {
      "cell_type": "code",
      "execution_count": null,
      "id": "mpxZOvjgDXyc",
      "metadata": {
        "colab": {
          "base_uri": "https://localhost:8080/"
        },
        "id": "mpxZOvjgDXyc",
        "outputId": "35eb925a-e261-4439-80c2-75f3d2ccd35f"
      },
      "outputs": [
        {
          "output_type": "stream",
          "name": "stdout",
          "text": [
            "Requirement already satisfied: pandas in /usr/local/lib/python3.10/dist-packages (2.2.2)\n",
            "Requirement already satisfied: numpy>=1.22.4 in /usr/local/lib/python3.10/dist-packages (from pandas) (1.26.4)\n",
            "Requirement already satisfied: python-dateutil>=2.8.2 in /usr/local/lib/python3.10/dist-packages (from pandas) (2.8.2)\n",
            "Requirement already satisfied: pytz>=2020.1 in /usr/local/lib/python3.10/dist-packages (from pandas) (2024.2)\n",
            "Requirement already satisfied: tzdata>=2022.7 in /usr/local/lib/python3.10/dist-packages (from pandas) (2024.2)\n",
            "Requirement already satisfied: six>=1.5 in /usr/local/lib/python3.10/dist-packages (from python-dateutil>=2.8.2->pandas) (1.16.0)\n"
          ]
        }
      ],
      "source": [
        "pip install pandas"
      ]
    },
    {
      "cell_type": "code",
      "execution_count": 1,
      "id": "-VkMXy3TDb0M",
      "metadata": {
        "colab": {
          "base_uri": "https://localhost:8080/"
        },
        "id": "-VkMXy3TDb0M",
        "outputId": "0dc5338c-0a57-477a-ca2c-2c9f9788a77a"
      },
      "outputs": [
        {
          "output_type": "stream",
          "name": "stdout",
          "text": [
            "Requirement already satisfied: findspark in /usr/local/lib/python3.10/dist-packages (2.0.1)\n"
          ]
        }
      ],
      "source": [
        "pip install findspark"
      ]
    },
    {
      "cell_type": "code",
      "execution_count": 2,
      "id": "418JgWH3DlLj",
      "metadata": {
        "id": "418JgWH3DlLj"
      },
      "outputs": [],
      "source": [
        "import findspark\n",
        "findspark.init()"
      ]
    },
    {
      "cell_type": "code",
      "execution_count": null,
      "id": "L53p4cFlEgfM",
      "metadata": {
        "colab": {
          "base_uri": "https://localhost:8080/"
        },
        "id": "L53p4cFlEgfM",
        "outputId": "ec852c9d-0df1-4af3-bc0d-e8afbcea3e15"
      },
      "outputs": [
        {
          "name": "stdout",
          "output_type": "stream",
          "text": [
            "+-----+---+------+------+------+\n",
            "| Name|Age|Gender|Salary|DeptId|\n",
            "+-----+---+------+------+------+\n",
            "|James| 34|     M|  3000|     1|\n",
            "| Anna| 28|     F|  4100|     2|\n",
            "|  Lee| 23|     M|  2700|     1|\n",
            "+-----+---+------+------+------+\n",
            "\n",
            "+----+---+\n",
            "|Name|Age|\n",
            "+----+---+\n",
            "|Anna| 28|\n",
            "+----+---+\n",
            "\n",
            "+------------------+\n",
            "|       avg(Salary)|\n",
            "+------------------+\n",
            "|3266.6666666666665|\n",
            "+------------------+\n",
            "\n",
            "+-----+---+------+------+------+\n",
            "| Name|Age|Gender|Salary|DeptId|\n",
            "+-----+---+------+------+------+\n",
            "|James| 34|     M|  3000|     1|\n",
            "| Anna| 28|     F|  4100|     2|\n",
            "|  Lee| 23|     M|  2700|     1|\n",
            "+-----+---+------+------+------+\n",
            "\n"
          ]
        }
      ],
      "source": [
        "from pyspark.sql import SparkSession\n",
        "\n",
        "spark = SparkSession.builder.appName(\"Hands_On_Praktikum_9\").getOrCreate()\n",
        "data = [\n",
        "    ('James', 34, 'M', 3000, 1),\n",
        "    ('Anna', 28, 'F', 4100, 2),\n",
        "    ('Lee', 23, 'M', 2700, 1)\n",
        "]\n",
        "columns = ['Name', 'Age', 'Gender', 'Salary', 'DeptId']\n",
        "df = spark.createDataFrame(data, columns)\n",
        "df.createOrReplaceTempView('employees')\n",
        "\n",
        "spark.sql('SELECT * FROM employees').show()\n",
        "spark.sql('SELECT Name, Age FROM employees WHERE Salary > 3000').show()\n",
        "spark.sql('SELECT AVG(Salary) FROM employees').show()\n",
        "\n",
        "df.show()"
      ]
    },
    {
      "cell_type": "markdown",
      "id": "9fd8b4f1",
      "metadata": {
        "id": "9fd8b4f1"
      },
      "source": [
        "### 2. Advanced Queries for Data Analysis\n",
        "Gunakan queries lebih kompleks, melibatkan grouping, filtering, dan subqueries.\n",
        "- **Tugas 2**: Buat SQL query yang menghitung total gaji berdasarkan jenis kelamin dan usia.\n"
      ]
    },
    {
      "cell_type": "code",
      "execution_count": null,
      "id": "4fc8a9e6",
      "metadata": {
        "colab": {
          "base_uri": "https://localhost:8080/"
        },
        "id": "4fc8a9e6",
        "outputId": "bff6401e-857b-4fc5-f177-d8cd15e06ae4"
      },
      "outputs": [
        {
          "name": "stdout",
          "output_type": "stream",
          "text": [
            "+------+-----------+---+\n",
            "|Gender|TotalSalary|Age|\n",
            "+------+-----------+---+\n",
            "|     M|       2700| 23|\n",
            "|     F|       4100| 28|\n",
            "|     M|       3000| 34|\n",
            "+------+-----------+---+\n",
            "\n"
          ]
        }
      ],
      "source": [
        "spark.sql('''\n",
        "SELECT Gender, SUM(Salary) as TotalSalary, Age\n",
        "FROM employees\n",
        "GROUP BY Gender, Age\n",
        "ORDER BY Age\n",
        "''').show()\n"
      ]
    },
    {
      "cell_type": "markdown",
      "id": "18b3ccb1",
      "metadata": {
        "id": "18b3ccb1"
      },
      "source": [
        "- **Tugas Tambahan 2**:\n",
        "1. Cari rata-rata gaji per departemen.\n",
        "2. Temukan karyawan yang memiliki gaji di atas rata-rata untuk gender masing-masing.\n",
        "3. Buat ranking karyawan berdasarkan gaji dalam departemen mereka.\n"
      ]
    },
    {
      "cell_type": "code",
      "execution_count": null,
      "id": "vumiUuBTGl4V",
      "metadata": {
        "colab": {
          "base_uri": "https://localhost:8080/"
        },
        "id": "vumiUuBTGl4V",
        "outputId": "0d58db15-e22b-4877-a0fb-aa322c075ca1"
      },
      "outputs": [
        {
          "name": "stdout",
          "output_type": "stream",
          "text": [
            "+------+---------+\n",
            "|DeptId|AvgSalary|\n",
            "+------+---------+\n",
            "|     1|   2850.0|\n",
            "|     2|   4100.0|\n",
            "+------+---------+\n",
            "\n"
          ]
        }
      ],
      "source": [
        "# Mencari rata-rata gaji per departemen\n",
        "spark.sql('''\n",
        "SELECT DeptId, AVG(salary) as AvgSalary\n",
        "FROM employees\n",
        "GROUP BY DeptId\n",
        "''').show()"
      ]
    },
    {
      "cell_type": "code",
      "execution_count": null,
      "id": "Ws_mYB04HiY8",
      "metadata": {
        "colab": {
          "base_uri": "https://localhost:8080/"
        },
        "id": "Ws_mYB04HiY8",
        "outputId": "5aa577d7-4256-4450-ff8f-65652f260c43"
      },
      "outputs": [
        {
          "name": "stdout",
          "output_type": "stream",
          "text": [
            "+-----+------+------+---------+\n",
            "| Name|Gender|Salary|AvgSalary|\n",
            "+-----+------+------+---------+\n",
            "|James|     M|  3000|   2850.0|\n",
            "+-----+------+------+---------+\n",
            "\n"
          ]
        }
      ],
      "source": [
        "# Temukan karyawan yang memiliki gaji di atas rata-rata untuk gender masing-masing\n",
        "spark.sql('''\n",
        "SELECT e.Name, e.Gender, e.Salary, avg_salary_by_gender.AvgSalary\n",
        "FROM employees e\n",
        "JOIN (\n",
        "    SELECT Gender, AVG(Salary) as AvgSalary\n",
        "    FROM employees\n",
        "    GROUP BY Gender\n",
        ") avg_salary_by_gender\n",
        "ON e.Gender = avg_salary_by_gender.Gender\n",
        "WHERE e.Salary > avg_salary_by_gender.AvgSalary\n",
        "''').show()\n"
      ]
    },
    {
      "cell_type": "code",
      "execution_count": null,
      "id": "VvtxaMoyJrDs",
      "metadata": {
        "colab": {
          "base_uri": "https://localhost:8080/"
        },
        "id": "VvtxaMoyJrDs",
        "outputId": "8d5b53eb-7534-4578-d565-429678cc220a"
      },
      "outputs": [
        {
          "name": "stdout",
          "output_type": "stream",
          "text": [
            "+----+------+------+\n",
            "|Name|Gender|Salary|\n",
            "+----+------+------+\n",
            "|Anna|     F|  4100|\n",
            "|Faya|     F|  4000|\n",
            "|Kana|     F|  5000|\n",
            "|Joki|     M|  4300|\n",
            "+----+------+------+\n",
            "\n"
          ]
        }
      ],
      "source": [
        "spark.sql('''\n",
        "SELECT Name, Gender, Salary\n",
        "FROM employees\n",
        "WHERE Salary > (\n",
        "    SELECT AVG(Salary)\n",
        "    FROM employees\n",
        "    WHERE employees.Gender = Gender\n",
        ")\n",
        "''').show()"
      ]
    },
    {
      "cell_type": "code",
      "execution_count": null,
      "id": "TgNZcRIhLaX2",
      "metadata": {
        "colab": {
          "base_uri": "https://localhost:8080/"
        },
        "id": "TgNZcRIhLaX2",
        "outputId": "9efc2bd2-f71e-4cff-be96-7866df0e3442"
      },
      "outputs": [
        {
          "name": "stdout",
          "output_type": "stream",
          "text": [
            "+-----+------+------+----+\n",
            "| Name|Salary|DeptId|Rank|\n",
            "+-----+------+------+----+\n",
            "|James|  3000|     1|   1|\n",
            "|  Lee|  2700|     1|   2|\n",
            "| Anna|  4100|     2|   1|\n",
            "+-----+------+------+----+\n",
            "\n"
          ]
        }
      ],
      "source": [
        "# Buat ranking karyawan berdasarkan gaji dalam departemen mereka\n",
        "spark.sql('''\n",
        "SELECT Name, Salary, DeptId,\n",
        "DENSE_RANK() OVER (PARTITION BY DeptId ORDER BY Salary DESC) as Rank\n",
        "FROM employees\n",
        "''').show()"
      ]
    },
    {
      "cell_type": "markdown",
      "id": "3c4fffdc",
      "metadata": {
        "id": "3c4fffdc"
      },
      "source": [
        "### 3. Penggunaan Window Functions dan Subqueries\n",
        "Latihan penggunaan window functions untuk menemukan karyawan dengan gaji tertinggi dan urutannya berdasarkan kelompok usia.\n",
        "- **Tugas 3**: Terapkan window functions untuk menemukan top 3 karyawan dalam kelompok usia tertentu.\n"
      ]
    },
    {
      "cell_type": "code",
      "execution_count": null,
      "id": "eb927310",
      "metadata": {
        "colab": {
          "base_uri": "https://localhost:8080/"
        },
        "id": "eb927310",
        "outputId": "32b90c5e-51f5-4479-c3eb-781239457b0e"
      },
      "outputs": [
        {
          "name": "stdout",
          "output_type": "stream",
          "text": [
            "+-----+---+------+----+\n",
            "| Name|Age|Salary|rank|\n",
            "+-----+---+------+----+\n",
            "|  Lee| 23|  2700|   1|\n",
            "| Anna| 28|  4100|   1|\n",
            "|James| 34|  3000|   1|\n",
            "+-----+---+------+----+\n",
            "\n"
          ]
        }
      ],
      "source": [
        "spark.sql('''\n",
        "SELECT Name, Age, Salary, ROW_NUMBER() OVER (PARTITION BY Age ORDER BY Salary DESC) as rank\n",
        "FROM employees\n",
        "''').show()\n"
      ]
    },
    {
      "cell_type": "code",
      "execution_count": null,
      "id": "MhY43mpDMwXE",
      "metadata": {
        "colab": {
          "base_uri": "https://localhost:8080/"
        },
        "id": "MhY43mpDMwXE",
        "outputId": "ee9d2e81-5127-4875-e7da-6a09b1d758fa"
      },
      "outputs": [
        {
          "name": "stdout",
          "output_type": "stream",
          "text": [
            "+-----+---+------+-------+\n",
            "| Name|Age|Salary|Ranking|\n",
            "+-----+---+------+-------+\n",
            "|James| 34|  3000|      1|\n",
            "| Kana| 40|  5000|      1|\n",
            "| Joki| 45|  4300|      1|\n",
            "+-----+---+------+-------+\n",
            "\n"
          ]
        }
      ],
      "source": [
        "# Terapkan window functions untuk menemukan top 3 karyawan dalam kelompok usia tertentu\n",
        "from pyspark.sql import SparkSession\n",
        "from pyspark.sql import functions as F\n",
        "from pyspark.sql import Window\n",
        "\n",
        "spark = SparkSession.builder.appName(\"Hands_On_Praktikum_9\").getOrCreate()\n",
        "data = [\n",
        "    ('James', 34, 'M', 3000, 1),\n",
        "    ('Anna', 28, 'F', 4100, 2),\n",
        "    ('Lee', 23, 'M', 2700, 1),\n",
        "    ('Faya', 25, 'F', 4000, 1),\n",
        "    ('Kana', 40, 'F', 5000, 2),\n",
        "    ('Joki', 45, 'M', 4300, 1)\n",
        "]\n",
        "columns = ['Name', 'Age', 'Gender', 'Salary', 'DeptId']\n",
        "df = spark.createDataFrame(data, schema=columns)\n",
        "\n",
        "age_group = (30, 50)\n",
        "\n",
        "window_spec = Window.partitionBy('Age').orderBy(F.desc('Salary'))\n",
        "\n",
        "top_karyawan = df.filter((df.Age >= age_group[0]) & (df.Age <= age_group[1])) \\\n",
        "                 .withColumn('Ranking', F.row_number().over(window_spec)) \\\n",
        "                 .filter(F.col('Ranking') <= 3)\n",
        "\n",
        "top_karyawan.select('Name', 'Age', 'Salary', 'Ranking').show()"
      ]
    },
    {
      "cell_type": "markdown",
      "id": "5fb43ac4",
      "metadata": {
        "id": "5fb43ac4"
      },
      "source": [
        "### 4. Advanced Spark SQL Queries\n",
        "Menjelajahi queries yang lebih kompleks yang melibatkan multiple joins, subqueries, dan window functions.\n",
        "- **Tugas 4**: Demonstrasi penggunaan multi-level joins dan subqueries untuk analisis data yang mendalam.\n"
      ]
    },
    {
      "cell_type": "code",
      "execution_count": null,
      "id": "f1bfd9fd",
      "metadata": {
        "colab": {
          "base_uri": "https://localhost:8080/"
        },
        "id": "f1bfd9fd",
        "outputId": "687609a2-5354-475f-b60d-9e682d2a18d2"
      },
      "outputs": [
        {
          "name": "stdout",
          "output_type": "stream",
          "text": [
            "+-----+---+---------+-----------+\n",
            "| Name|Age| DeptName|ProjectName|\n",
            "+-----+---+---------+-----------+\n",
            "|  Lee| 23|       HR|  Project A|\n",
            "|James| 34|       HR|  Project A|\n",
            "| Anna| 28|Marketing|  Project B|\n",
            "+-----+---+---------+-----------+\n",
            "\n"
          ]
        }
      ],
      "source": [
        "from pyspark.sql import SparkSession\n",
        "spark = SparkSession.builder.appName('Pertemuan9').getOrCreate()\n",
        "\n",
        "# Data setup for complex SQL queries\n",
        "employees = spark.createDataFrame([\n",
        "    ('James', 34, 'M', 3000, 1),\n",
        "    ('Anna', 28, 'F', 4100, 2),\n",
        "    ('Lee', 23, 'M', 2700, 1)\n",
        "], ['Name', 'Age', 'Gender', 'Salary', 'DeptId'])\n",
        "departments = spark.createDataFrame([\n",
        "    (1, 'HR'),\n",
        "    (2, 'Marketing')\n",
        "], ['DeptId', 'DeptName'])\n",
        "projects = spark.createDataFrame([\n",
        "    (1, 'Project A'),\n",
        "    (2, 'Project B')\n",
        "], ['DeptId', 'ProjectName'])\n",
        "employees.createOrReplaceTempView('employees')\n",
        "departments.createOrReplaceTempView('departments')\n",
        "projects.createOrReplaceTempView('projects')\n",
        "\n",
        "# Complex SQL query involving multiple joins and subqueries\n",
        "spark.sql('''\n",
        "SELECT e.Name, e.Age, d.DeptName, p.ProjectName\n",
        "FROM employees e\n",
        "JOIN departments d ON e.DeptId = d.DeptId\n",
        "JOIN projects p ON e.DeptId = p.DeptId\n",
        "''').show()\n"
      ]
    },
    {
      "cell_type": "markdown",
      "id": "ad25f1f0",
      "metadata": {
        "id": "ad25f1f0"
      },
      "source": [
        "Latihan mandiri untuk memperkuat pemahaman tentang Spark SQL dalam analisis data terdistribusi.\n",
        "- **Tugas 5**: Tuliskan query SQL untuk menemukan rata-rata gaji per departemen dan rangking setiap karyawan dalam departemen berdasarkan gaji.\n",
        "- **Tugas 6**: Gunakan window functions untuk menentukan tren gaji berdasarkan usia di setiap departemen.\n"
      ]
    },
    {
      "cell_type": "code",
      "execution_count": null,
      "id": "sYPjszXfPN6-",
      "metadata": {
        "colab": {
          "base_uri": "https://localhost:8080/"
        },
        "id": "sYPjszXfPN6-",
        "outputId": "6dcc55a5-1dac-441a-c3ec-e022e5317f8e"
      },
      "outputs": [
        {
          "name": "stdout",
          "output_type": "stream",
          "text": [
            "+-----+------+------+-------+------------------+\n",
            "| Name|Salary|DeptId|Ranking|         AvgSalary|\n",
            "+-----+------+------+-------+------------------+\n",
            "|James|  3000|     1|      1|2866.6666666666665|\n",
            "|  Tom|  2900|     1|      1|2866.6666666666665|\n",
            "|  Lee|  2700|     1|      1|2866.6666666666665|\n",
            "| Mike|  3200|     2|      1|            3700.0|\n",
            "| Sara|  3800|     2|      1|            3700.0|\n",
            "| Anna|  4100|     2|      1|            3700.0|\n",
            "+-----+------+------+-------+------------------+\n",
            "\n"
          ]
        }
      ],
      "source": [
        "# Tuliskan query SQL untuk menemukan rata-rata gaji per departemen dan rangking setiap karyawan dalam departemen berdasarkan gaji\n",
        "from pyspark.sql import SparkSession\n",
        "from pyspark.sql import functions as F\n",
        "from pyspark.sql import Window\n",
        "\n",
        "spark = SparkSession.builder.appName(\"Hands_On_Praktikum_9\").getOrCreate()\n",
        "\n",
        "data = [\n",
        "    ('James', 34, 'M', 3000, 1),\n",
        "    ('Anna', 28, 'F', 4100, 2),\n",
        "    ('Lee', 23, 'M', 2700, 1),\n",
        "    ('Mike', 32, 'M', 3200, 2),\n",
        "    ('Sara', 29, 'F', 3800, 2),\n",
        "    ('Tom', 25, 'M', 2900, 1)\n",
        "]\n",
        "columns = ['Name', 'Age', 'Gender', 'Salary', 'DeptId']\n",
        "df = spark.createDataFrame(data, columns)\n",
        "\n",
        "avg_salary_df = df.groupBy(\"DeptId\").agg(F.avg(\"Salary\").alias(\"AvgSalary\"))\n",
        "\n",
        "window = Window.partitionBy(\"DeptId\").orderBy(F.desc(\"Salary\"))\n",
        "ranked_df = df.withColumn(\"Ranking\", F.dense_rank().over(window_spec))\n",
        "\n",
        "result_df = ranked_df.join(avg_salary_df, \"DeptId\")\n",
        "result_df.select(\"Name\", \"Salary\", \"DeptId\", \"Ranking\", \"AvgSalary\").orderBy(\"DeptId\", \"Ranking\").show()"
      ]
    },
    {
      "cell_type": "code",
      "execution_count": null,
      "id": "78Tm4PgFSmXe",
      "metadata": {
        "colab": {
          "base_uri": "https://localhost:8080/"
        },
        "id": "78Tm4PgFSmXe",
        "outputId": "75fd1e93-a6f3-4697-85ef-576fae1e3c06"
      },
      "outputs": [
        {
          "name": "stdout",
          "output_type": "stream",
          "text": [
            "+-----+---+------+------+------------------+\n",
            "| Name|Age|Salary|DeptId|         AvgSalary|\n",
            "+-----+---+------+------+------------------+\n",
            "|  Lee| 23|  2700|     1|            2700.0|\n",
            "| Faya| 25|  4000|     1|            3350.0|\n",
            "|James| 34|  3000|     1|3233.3333333333335|\n",
            "| Joki| 45|  4300|     1|            3500.0|\n",
            "| Anna| 28|  4100|     2|            4100.0|\n",
            "| Kana| 40|  5000|     2|            4550.0|\n",
            "+-----+---+------+------+------------------+\n",
            "\n"
          ]
        }
      ],
      "source": [
        "# Gunakan window functions untuk menentukan tren gaji berdasarkan usia di setiap departemen\n",
        "from pyspark.sql import SparkSession\n",
        "from pyspark.sql import functions as F\n",
        "from pyspark.sql import Window\n",
        "\n",
        "spark = SparkSession.builder.appName(\"Hands_On_Praktikum_9\").getOrCreate()\n",
        "data = [\n",
        "    ('James', 34, 'M', 3000, 1),\n",
        "    ('Anna', 28, 'F', 4100, 2),\n",
        "    ('Lee', 23, 'M', 2700, 1),\n",
        "    ('Faya', 25, 'F', 4000, 1),\n",
        "    ('Kana', 40, 'F', 5000, 2),\n",
        "    ('Joki', 45, 'M', 4300, 1)\n",
        "]\n",
        "columns = ['Name', 'Age', 'Gender', 'Salary', 'DeptId']\n",
        "df = spark.createDataFrame(data, schema=columns)\n",
        "\n",
        "age_group = (30, 50)\n",
        "\n",
        "window = Window.partitionBy('DeptId').orderBy('Age')\n",
        "\n",
        "avg_salary_df = df.withColumn('AvgSalary', F.avg('Salary').over(window))\n",
        "\n",
        "tren_df = avg_salary_df.select('Name', 'Age', 'Salary', 'DeptId', 'AvgSalary')\n",
        "tren_df.show()"
      ]
    },
    {
      "cell_type": "markdown",
      "id": "88a2c206",
      "metadata": {
        "id": "88a2c206"
      },
      "source": [
        "### 5. Advanced Data Analysis and Visualization\n",
        "Penerapan teknik analisis data yang lebih canggih dan visualisasi menggunakan PySpark dan matplotlib.\n",
        "- **Tugas 7**: Lakukan analisis tren gaji menggunakan Spark SQL dan visualisasikan hasilnya.\n"
      ]
    },
    {
      "cell_type": "code",
      "execution_count": null,
      "id": "a170f256",
      "metadata": {
        "colab": {
          "base_uri": "https://localhost:8080/",
          "height": 487
        },
        "id": "a170f256",
        "outputId": "b47c6df8-3ae9-4f0a-fa28-6a04a53f1b50"
      },
      "outputs": [
        {
          "data": {
            "image/png": "[encoded data removed]",
            "text/plain": [
              "<Figure size 1000x500 with 1 Axes>"
            ]
          },
          "metadata": {},
          "output_type": "display_data"
        }
      ],
      "source": [
        "import matplotlib.pyplot as plt\n",
        "import pandas as pd\n",
        "\n",
        "# Advanced data analysis with visualization\n",
        "salary_trends = spark.sql('''\n",
        "SELECT Age, AVG(Salary) AS AverageSalary\n",
        "FROM employees\n",
        "GROUP BY Age\n",
        "ORDER BY Age\n",
        "''').toPandas()\n",
        "\n",
        "# Visualization of salary trends\n",
        "plt.figure(figsize=(10, 5))\n",
        "plt.plot(salary_trends['Age'], salary_trends['AverageSalary'], marker='o')\n",
        "plt.xlabel('Age')\n",
        "plt.ylabel('Average Salary')\n",
        "plt.title('Salary Trends by Age')\n",
        "plt.grid(True)\n",
        "plt.show()"
      ]
    },
    {
      "cell_type": "markdown",
      "id": "dd314ae9",
      "metadata": {
        "id": "dd314ae9"
      },
      "source": [
        "### 6. Homework\n",
        "- **Tugas 1**: Gunakan Spark SQL untuk mencari total gaji dan jumlah karyawan per departemen. Buat visualisasi perbandingan antar departemen.\n",
        "- **Tugas 2**: Temukan karyawan dengan gaji di atas rata-rata dalam setiap kelompok usia dan visualisasikan data ini dalam bentuk grafik batang atau pie chart.\n",
        "- **Tugas 3**: Buat dataset yang lebih besar (misalnya, 100+ baris) dan lakukan analisis mendalam menggunakan SQL functions seperti `SUM()`, `AVG()`, `COUNT()`, serta `JOIN` antar tabel serta buat visualisasi yang menarik.\n"
      ]
    },
    {
      "cell_type": "code",
      "execution_count": null,
      "id": "nqV9tncLoxSR",
      "metadata": {
        "colab": {
          "base_uri": "https://localhost:8080/",
          "height": 358
        },
        "id": "nqV9tncLoxSR",
        "outputId": "3aaf2e77-49d5-4d31-d34f-376a1f915ee1"
      },
      "outputs": [
        {
          "data": {
            "image/png": "[encoded data removed]",
            "text/plain": [
              "<Figure size 1000x500 with 1 Axes>"
            ]
          },
          "metadata": {},
          "output_type": "display_data"
        }
      ],
      "source": [
        "# Gunakan Spark SQL untuk mencari total gaji dan jumlah karyawan per departemen. Buat visualisasi perbandingan antar departemen.\n",
        "from pyspark.sql import SparkSession\n",
        "import matplotlib.pyplot as plt\n",
        "import pandas as pd\n",
        "spark = SparkSession.builder.appName(\"Hands_On_Praktikum_9\").getOrCreate()\n",
        "data = [\n",
        "    ('James', 34, 'M', 3000, 1),\n",
        "    ('Anna', 28, 'F', 4100, 2),\n",
        "    ('Lee', 23, 'M', 2700, 1),\n",
        "    ('Faya', 25, 'F', 4000, 1),\n",
        "    ('Kana', 40, 'F', 5000, 2),\n",
        "    ('Joki', 45, 'M', 4300, 1)\n",
        "]\n",
        "columns = ['Name', 'Age', 'Gender', 'Salary', 'DeptId']\n",
        "df = spark.createDataFrame(data, columns)\n",
        "df.createOrReplaceTempView('employees')\n",
        "\n",
        "salary_karyawan = spark.sql('''\n",
        "SELECT DeptId, SUM(Salary) as TotalSalary, COUNT(*) AS EmployeeCount\n",
        "FROM employees\n",
        "GROUP BY DeptId\n",
        "\n",
        "''')\n",
        "\n",
        "salary_karyawan_pd = salary_karyawan.toPandas()\n",
        "\n",
        "plt.figure(figsize=(10, 5))\n",
        "plt.bar(salary_karyawan_pd['DeptId'], salary_karyawan_pd['TotalSalary'], color='Lightgreen')\n",
        "plt.xlabel('Department ID')\n",
        "plt.ylabel('Total Salary')\n",
        "plt.title('Total Gaji dan Jumlah Karyawan per Departemen')\n",
        "plt.grid(True)\n",
        "plt.show()"
      ]
    },
    {
      "cell_type": "code",
      "execution_count": null,
      "id": "UdlPvUxew2Od",
      "metadata": {
        "colab": {
          "base_uri": "https://localhost:8080/",
          "height": 675
        },
        "id": "UdlPvUxew2Od",
        "outputId": "ec2166e8-0a94-4cfd-cba8-d5f0b04f32b0"
      },
      "outputs": [
        {
          "data": {
            "image/png": "[encoded data removed]",
            "text/plain": [
              "<Figure size 800x800 with 1 Axes>"
            ]
          },
          "metadata": {},
          "output_type": "display_data"
        }
      ],
      "source": [
        "# Temukan karyawan dengan gaji di atas rata-rata dalam setiap kelompok usia dan visualisasikan data ini dalam bentuk grafik batang atau pie chart\n",
        "from pyspark.sql import SparkSession\n",
        "import matplotlib.pyplot as plt\n",
        "import pandas as pd\n",
        "\n",
        "spark = SparkSession.builder.appName(\"Hands_On_Praktikum_9\").getOrCreate()\n",
        "\n",
        "data = [\n",
        "    ('James', 34, 'M', 3000, 1),\n",
        "    ('Anna', 28, 'F', 4100, 2),\n",
        "    ('Lee', 23, 'M', 2700, 1),\n",
        "    ('Faya', 25, 'F', 4000, 1),\n",
        "    ('Kana', 40, 'F', 5000, 2),\n",
        "    ('Joki', 45, 'M', 4300, 1)\n",
        "]\n",
        "columns = ['Name', 'Age', 'Gender', 'Salary', 'DeptId']\n",
        "\n",
        "df = spark.createDataFrame(data, columns)\n",
        "df.createOrReplaceTempView('employees')\n",
        "\n",
        "age_group_query = '''\n",
        "SELECT\n",
        "    CASE\n",
        "        WHEN Age BETWEEN 20 AND 30 THEN '20-30'\n",
        "        WHEN Age BETWEEN 31 AND 40 THEN '31-40'\n",
        "        WHEN Age > 40 THEN '41+'\n",
        "    END AS AgeGroup,\n",
        "    AVG(Salary) AS AvgSalary\n",
        "FROM employees\n",
        "GROUP BY AgeGroup\n",
        "'''\n",
        "\n",
        "gaji_rata = spark.sql(above_avg_salary_query)\n",
        "gaji_rata_usia = gaji_rata.toPandas()\n",
        "\n",
        "plt.figure(figsize=(8, 8))\n",
        "plt.pie(gaji_rata_usia['Salary'], labels=gaji_rata_usia['Age'], autopct='%1.1f%%', startangle=140)\n",
        "plt.title('Karyawan yang mempunyai gaji diatas rata-rata')\n",
        "plt.show()"
      ]
    },
    {
      "cell_type": "code",
      "execution_count": 14,
      "id": "gu0rSG0WYp-H",
      "metadata": {
        "colab": {
          "base_uri": "https://localhost:8080/"
        },
        "id": "gu0rSG0WYp-H",
        "outputId": "371c1eaf-5015-4073-b686-139f971ba365"
      },
      "outputs": [
        {
          "output_type": "stream",
          "name": "stdout",
          "text": [
            "+-------------+----------+-------+\n",
            "|         Nama|TahunKerja|   Gaji|\n",
            "+-------------+----------+-------+\n",
            "|        AHMAD|      2023|3900000|\n",
            "|      ARFENDO|      2022|4600000|\n",
            "|    LATIFUDIN|      2023|3700000|\n",
            "|        HENDI|      2022|4300000|\n",
            "|    M. FERYAN|      2022|3900000|\n",
            "|        RENDI|      2024|5600000|\n",
            "|       NUREKA|      2023|6000000|\n",
            "|        INDRA|      2024|5400000|\n",
            "|   MOCH IDWAL|      2023|6400000|\n",
            "|  REYNO YUSUF|      2024|5700000|\n",
            "|AHMAD MINANUL|      2023|6300000|\n",
            "|       AFIZZA|      2024|5500000|\n",
            "|          RIO|      2021|5600000|\n",
            "|     MUKHOZIN|      2021|5700000|\n",
            "|         ANDY|      2023|6100000|\n",
            "|  STIFEN ZURO|      2022|6700000|\n",
            "|       ROHMAT|      2023|6600000|\n",
            "|    SAFRUDINI|      2024|8300000|\n",
            "|AFRIZAL AHMAD|      2023|8100000|\n",
            "+-------------+----------+-------+\n",
            "\n"
          ]
        }
      ],
      "source": [
        "from pyspark.sql import SparkSession\n",
        "spark = SparkSession.builder.appName('DataKaryawan').getOrCreate()\n",
        "df_karyawan = spark.read.csv('DataKaryawan.csv', header = \"True\", inferSchema = \"True\")\n",
        "df_karyawan.createOrReplaceTempView(\"DataKaryawan\")\n",
        "\n",
        "df_karyawan.show()"
      ]
    },
    {
      "cell_type": "code",
      "source": [
        "result_sum_avg_count= spark.sql('''\n",
        "  SELECT\n",
        "    SUM(Gaji) AS total_Gaji,\n",
        "    AVG(Gaji) AS rata_rata_Gaji,\n",
        "    COUNT(Gaji) AS jumlah_karyawan\n",
        "    FROM DataKaryawan\n",
        "''')\n",
        "result_sum_avg_count.show()"
      ],
      "metadata": {
        "colab": {
          "base_uri": "https://localhost:8080/"
        },
        "id": "fLFQSMMZiB8N",
        "outputId": "b871d8a1-c4c3-445d-9d1d-f63fe14ccb2d"
      },
      "id": "fLFQSMMZiB8N",
      "execution_count": null,
      "outputs": [
        {
          "output_type": "stream",
          "name": "stdout",
          "text": [
            "+----------+-----------------+---------------+\n",
            "|total_Gaji|   rata_rata_Gaji|jumlah_karyawan|\n",
            "+----------+-----------------+---------------+\n",
            "| 108400000|5705263.157894737|             19|\n",
            "+----------+-----------------+---------------+\n",
            "\n"
          ]
        }
      ]
    },
    {
      "cell_type": "code",
      "source": [
        "from pyspark.sql import SparkSession\n",
        "spark = SparkSession.builder.appName('Dataterbaru').getOrCreate()\n",
        "dataterbaru= [\n",
        "    (2023,\"nguli\",\"M\"),\n",
        "    (2021,\"Programer\",\"F\"),\n",
        "    (2022,\"data analyst\",\"M\"),\n",
        "    (2024,\"engginer\",\"L\"),\n",
        "]\n",
        "df_dataterbaru = spark.createDataFrame(dataterbaru, [\"TahunKerja\",\"Pekerjaan\",\"JenisKelamin\"])\n",
        "df_dataterbaru.createOrReplaceTempView(\"dataterbaru\")\n",
        "df_dataterbaru.show()\n"
      ],
      "metadata": {
        "colab": {
          "base_uri": "https://localhost:8080/"
        },
        "id": "qIVbSkZIq1Ig",
        "outputId": "79419d07-93e2-4d4f-b4f8-59350856a5f2"
      },
      "id": "qIVbSkZIq1Ig",
      "execution_count": 10,
      "outputs": [
        {
          "output_type": "stream",
          "name": "stdout",
          "text": [
            "+----------+------------+------------+\n",
            "|TahunKerja|   Pekerjaan|JenisKelamin|\n",
            "+----------+------------+------------+\n",
            "|      2023|       nguli|           M|\n",
            "|      2021|   Programer|           F|\n",
            "|      2022|data analyst|           M|\n",
            "|      2024|    engginer|           L|\n",
            "+----------+------------+------------+\n",
            "\n"
          ]
        }
      ]
    },
    {
      "cell_type": "code",
      "source": [
        "result = spark.sql('''\n",
        "  SELECT k.Nama, k.Gaji, k.TahunKerja, d.Pekerjaan\n",
        "  FROM DataKaryawan k\n",
        "  JOIN dataterbaru d\n",
        "  ON k.TahunKerja = d.TahunKerja\n",
        "''')\n",
        "\n",
        "result.show()\n",
        "\n",
        "result_pandas = result.toPandas()\n",
        "import matplotlib.pyplot as plt\n",
        "\n",
        "# Group by pekerjaan dan ambil rata-rata gaji\n",
        "avg_salary = result_pandas.groupby('Pekerjaan')['Gaji'].mean()\n",
        "\n",
        "# Bar plot\n",
        "plt.figure(figsize=(10, 6))\n",
        "avg_salary.plot(kind='bar', color='grey', edgecolor='black')\n",
        "plt.title('Rata-rata Gaji Berdasarkan Pekerjaan', fontsize=16)\n",
        "plt.xlabel('Pekerjaan', fontsize=12)\n",
        "plt.ylabel('Rata-rata Gaji', fontsize=12)\n",
        "plt.xticks(rotation=45)\n",
        "plt.grid(axis='y', linestyle='--', alpha=0.7)\n",
        "plt.show()\n",
        "\n"
      ],
      "metadata": {
        "colab": {
          "base_uri": "https://localhost:8080/",
          "height": 1000
        },
        "id": "mdp3pMN6iYSi",
        "outputId": "376890f2-8650-46c0-d685-179b7ea20ec6"
      },
      "id": "mdp3pMN6iYSi",
      "execution_count": 23,
      "outputs": [
        {
          "output_type": "stream",
          "name": "stdout",
          "text": [
            "+-------------+-------+----------+------------+\n",
            "|         Nama|   Gaji|TahunKerja|   Pekerjaan|\n",
            "+-------------+-------+----------+------------+\n",
            "|AFRIZAL AHMAD|8100000|      2023|       nguli|\n",
            "|       ROHMAT|6600000|      2023|       nguli|\n",
            "|         ANDY|6100000|      2023|       nguli|\n",
            "|AHMAD MINANUL|6300000|      2023|       nguli|\n",
            "|   MOCH IDWAL|6400000|      2023|       nguli|\n",
            "|       NUREKA|6000000|      2023|       nguli|\n",
            "|    LATIFUDIN|3700000|      2023|       nguli|\n",
            "|        AHMAD|3900000|      2023|       nguli|\n",
            "|     MUKHOZIN|5700000|      2021|   Programer|\n",
            "|          RIO|5600000|      2021|   Programer|\n",
            "|  STIFEN ZURO|6700000|      2022|data analyst|\n",
            "|    M. FERYAN|3900000|      2022|data analyst|\n",
            "|        HENDI|4300000|      2022|data analyst|\n",
            "|      ARFENDO|4600000|      2022|data analyst|\n",
            "|    SAFRUDINI|8300000|      2024|    engginer|\n",
            "|       AFIZZA|5500000|      2024|    engginer|\n",
            "|  REYNO YUSUF|5700000|      2024|    engginer|\n",
            "|        INDRA|5400000|      2024|    engginer|\n",
            "|        RENDI|5600000|      2024|    engginer|\n",
            "+-------------+-------+----------+------------+\n",
            "\n"
          ]
        },
        {
          "output_type": "display_data",
          "data": {
            "text/plain": [
              "<Figure size 1000x600 with 1 Axes>"
            ],
            "image/png": "[encoded data removed]"
          },
          "metadata": {}
        }
      ]
    },
    {
      "cell_type": "code",
      "source": [
        "pip install pandas matplotlib"
      ],
      "metadata": {
        "colab": {
          "base_uri": "https://localhost:8080/"
        },
        "id": "zCI_Qp-MUruc",
        "outputId": "0d267814-51aa-4ad8-abdf-d98dfca8ec82"
      },
      "id": "zCI_Qp-MUruc",
      "execution_count": 22,
      "outputs": [
        {
          "output_type": "stream",
          "name": "stdout",
          "text": [
            "Requirement already satisfied: pandas in /usr/local/lib/python3.10/dist-packages (2.2.2)\n",
            "Requirement already satisfied: matplotlib in /usr/local/lib/python3.10/dist-packages (3.7.1)\n",
            "Requirement already satisfied: numpy>=1.22.4 in /usr/local/lib/python3.10/dist-packages (from pandas) (1.26.4)\n",
            "Requirement already satisfied: python-dateutil>=2.8.2 in /usr/local/lib/python3.10/dist-packages (from pandas) (2.8.2)\n",
            "Requirement already satisfied: pytz>=2020.1 in /usr/local/lib/python3.10/dist-packages (from pandas) (2024.2)\n",
            "Requirement already satisfied: tzdata>=2022.7 in /usr/local/lib/python3.10/dist-packages (from pandas) (2024.2)\n",
            "Requirement already satisfied: contourpy>=1.0.1 in /usr/local/lib/python3.10/dist-packages (from matplotlib) (1.3.0)\n",
            "Requirement already satisfied: cycler>=0.10 in /usr/local/lib/python3.10/dist-packages (from matplotlib) (0.12.1)\n",
            "Requirement already satisfied: fonttools>=4.22.0 in /usr/local/lib/python3.10/dist-packages (from matplotlib) (4.54.1)\n",
            "Requirement already satisfied: kiwisolver>=1.0.1 in /usr/local/lib/python3.10/dist-packages (from matplotlib) (1.4.7)\n",
            "Requirement already satisfied: packaging>=20.0 in /usr/local/lib/python3.10/dist-packages (from matplotlib) (24.1)\n",
            "Requirement already satisfied: pillow>=6.2.0 in /usr/local/lib/python3.10/dist-packages (from matplotlib) (10.4.0)\n",
            "Requirement already satisfied: pyparsing>=2.3.1 in /usr/local/lib/python3.10/dist-packages (from matplotlib) (3.2.0)\n",
            "Requirement already satisfied: six>=1.5 in /usr/local/lib/python3.10/dist-packages (from python-dateutil>=2.8.2->pandas) (1.16.0)\n"
          ]
        }
      ]
    }
  ],
  "metadata": {
    "colab": {
      "provenance": []
    },
    "kernelspec": {
      "display_name": "Python 3",
      "name": "python3"
    },
    "language_info": {
      "name": "python"
    }
  },
  "nbformat": 4,
  "nbformat_minor": 5
}